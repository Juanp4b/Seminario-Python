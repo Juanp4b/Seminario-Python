{
 "cells": [
  {
   "cell_type": "code",
   "execution_count": 17,
   "metadata": {},
   "outputs": [],
   "source": [
    "import sys\n",
    "import os\n",
    "sys.path.append(os.path.abspath('../src'))"
   ]
  },
  {
   "cell_type": "code",
   "execution_count": 18,
   "metadata": {},
   "outputs": [
    {
     "name": "stdout",
     "output_type": "stream",
     "text": [
      "Error, el tiempo debe ser un número entero\n"
     ]
    }
   ],
   "source": [
    "from ej5 import clasificarEntre\n",
    "\n",
    "tiempo = input('Ingrese su tiempo de reacción en ms: ')\n",
    "if tiempo.isdigit():\n",
    "    tiempo = int(tiempo)\n",
    "else:\n",
    "    print('Error, el tiempo debe ser un número entero')"
   ]
  },
  {
   "cell_type": "code",
   "execution_count": 19,
   "metadata": {},
   "outputs": [],
   "source": [
    "if type(tiempo) == int:\n",
    "    cat = clasificarEntre(tiempo)\n",
    "    print(f'Categoría: {cat}')"
   ]
  }
 ],
 "metadata": {
  "kernelspec": {
   "display_name": "Python 3",
   "language": "python",
   "name": "python3"
  },
  "language_info": {
   "codemirror_mode": {
    "name": "ipython",
    "version": 3
   },
   "file_extension": ".py",
   "mimetype": "text/x-python",
   "name": "python",
   "nbconvert_exporter": "python",
   "pygments_lexer": "ipython3",
   "version": "3.12.9"
  }
 },
 "nbformat": 4,
 "nbformat_minor": 2
}
