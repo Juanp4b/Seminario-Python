{
 "cells": [
  {
   "cell_type": "code",
   "execution_count": 1,
   "metadata": {},
   "outputs": [],
   "source": [
    "import sys\n",
    "import os\n",
    "sys.path.append(os.path.abspath('../src'))"
   ]
  },
  {
   "cell_type": "code",
   "execution_count": 2,
   "metadata": {},
   "outputs": [],
   "source": [
    "from Entrega10 import simulateRound,finalRank\n",
    "\n",
    "rounds = [\n",
    "    {\n",
    "        'Shadow': {'kills': 2, 'assists': 1, 'deaths': True},\n",
    "        'Blaze': {'kills': 1, 'assists': 0, 'deaths': False},\n",
    "        'Viper': {'kills': 1, 'assists': 2, 'deaths': True},\n",
    "        'Frost': {'kills': 0, 'assists': 1, 'deaths': False},\n",
    "        'Reaper': {'kills': 1, 'assists': 1, 'deaths': False}\n",
    "    },\n",
    "    {\n",
    "        'Shadow': {'kills': 0, 'assists': 2, 'deaths': False},\n",
    "        'Blaze': {'kills': 2, 'assists': 0, 'deaths': True},\n",
    "        'Viper': {'kills': 1, 'assists': 1, 'deaths': False},\n",
    "        'Frost': {'kills': 2, 'assists': 1, 'deaths': True},\n",
    "        'Reaper': {'kills': 0, 'assists': 1, 'deaths': False}\n",
    "    },\n",
    "    {\n",
    "        'Shadow': {'kills': 1, 'assists': 0, 'deaths': False},\n",
    "        'Blaze': {'kills': 2, 'assists': 2, 'deaths': True},\n",
    "        'Viper': {'kills': 1, 'assists': 1, 'deaths': True},\n",
    "        'Frost': {'kills': 0, 'assists': 1, 'deaths': False},\n",
    "        'Reaper': {'kills': 1, 'assists': 1, 'deaths': False}\n",
    "    },\n",
    "    {\n",
    "        'Shadow': {'kills': 2, 'assists': 1, 'deaths': False},\n",
    "        'Blaze': {'kills': 1, 'assists': 0, 'deaths': True},\n",
    "        'Viper': {'kills': 0, 'assists': 2, 'deaths': False},\n",
    "        'Frost': {'kills': 1, 'assists': 1, 'deaths': True},\n",
    "        'Reaper': {'kills': 1, 'assists': 1, 'deaths': False}\n",
    "    },\n",
    "    {\n",
    "        'Shadow': {'kills': 1, 'assists': 2, 'deaths': True},\n",
    "        'Blaze': {'kills': 0, 'assists': 1, 'deaths': False},\n",
    "        'Viper': {'kills': 2, 'assists': 0, 'deaths': True},\n",
    "        'Frost': {'kills': 1, 'assists': 1, 'deaths': False},\n",
    "        'Reaper': {'kills': 1, 'assists': 1, 'deaths': True}\n",
    "    }\n",
    "]\n",
    "\n",
    "guide = {\n",
    "    'kills': 3,\n",
    "    'assists': 1,\n",
    "    'deaths': -1\n",
    "}\n",
    "\n",
    "ranks = {\n",
    "    'Shadow': {'kills': 0, 'assists': 0, 'deaths': 0, 'mvps': 0, 'points': 0},\n",
    "    'Blaze': {'kills': 0, 'assists': 0, 'deaths': 0, 'mvps': 0, 'points': 0},\n",
    "    'Viper': {'kills': 0, 'assists': 0, 'deaths': 0, 'mvps': 0, 'points': 0},\n",
    "    'Frost': {'kills': 0, 'assists': 0, 'deaths': 0, 'mvps': 0, 'points': 0},\n",
    "    'Reaper': {'kills': 0, 'assists': 0, 'deaths': 0, 'mvps': 0, 'points': 0}\n",
    "}"
   ]
  },
  {
   "cell_type": "code",
   "execution_count": 3,
   "metadata": {},
   "outputs": [
    {
     "name": "stdout",
     "output_type": "stream",
     "text": [
      "Ranking ronda 0:\n",
      "Jugador  Kills  Asistencias  Muertes Puntos \n",
      "--------------------------------------------\n",
      "Shadow   2      1            1       6      \n",
      "Blaze    1      0            0       3      \n",
      "Viper    1      2            1       4      \n",
      "Frost    0      1            0       1      \n",
      "Reaper   1      1            0       4      \n",
      "--------------------------------------------\n",
      "MVP de la ronda: Shadow con 6 puntos.\n",
      "\n",
      "Ranking ronda 1:\n",
      "Jugador  Kills  Asistencias  Muertes Puntos \n",
      "--------------------------------------------\n",
      "Shadow   0      2            0       2      \n",
      "Blaze    2      0            1       5      \n",
      "Viper    1      1            0       4      \n",
      "Frost    2      1            1       6      \n",
      "Reaper   0      1            0       1      \n",
      "--------------------------------------------\n",
      "MVP de la ronda: Frost con 6 puntos.\n",
      "\n",
      "Ranking ronda 2:\n",
      "Jugador  Kills  Asistencias  Muertes Puntos \n",
      "--------------------------------------------\n",
      "Shadow   1      0            0       3      \n",
      "Blaze    2      2            1       7      \n",
      "Viper    1      1            1       3      \n",
      "Frost    0      1            0       1      \n",
      "Reaper   1      1            0       4      \n",
      "--------------------------------------------\n",
      "MVP de la ronda: Blaze con 7 puntos.\n",
      "\n",
      "Ranking ronda 3:\n",
      "Jugador  Kills  Asistencias  Muertes Puntos \n",
      "--------------------------------------------\n",
      "Shadow   2      1            0       7      \n",
      "Blaze    1      0            1       2      \n",
      "Viper    0      2            0       2      \n",
      "Frost    1      1            1       3      \n",
      "Reaper   1      1            0       4      \n",
      "--------------------------------------------\n",
      "MVP de la ronda: Shadow con 7 puntos.\n",
      "\n",
      "Ranking ronda 4:\n",
      "Jugador  Kills  Asistencias  Muertes Puntos \n",
      "--------------------------------------------\n",
      "Shadow   1      2            1       4      \n",
      "Blaze    0      1            0       1      \n",
      "Viper    2      0            1       5      \n",
      "Frost    1      1            0       4      \n",
      "Reaper   1      1            1       3      \n",
      "--------------------------------------------\n",
      "MVP de la ronda: Viper con 5 puntos.\n",
      "\n"
     ]
    }
   ],
   "source": [
    "for i,r in enumerate(rounds):\n",
    "    print(f'Ranking ronda {i}:')\n",
    "    simulateRound(r,guide,ranks)\n",
    "    print()"
   ]
  },
  {
   "cell_type": "code",
   "execution_count": 4,
   "metadata": {},
   "outputs": [
    {
     "name": "stdout",
     "output_type": "stream",
     "text": [
      "Ranking final:\n",
      "Jugador  Kills  Asistencias  Muertes MVPs  Puntos \n",
      "--------------------------------------------------\n",
      "Shadow   6      6            2       2     22     \n",
      "Blaze    6      3            3       1     18     \n",
      "Viper    5      6            3       1     18     \n",
      "Frost    4      5            2       1     15     \n",
      "Reaper   4      5            1       0     16     \n",
      "--------------------------------------------------\n"
     ]
    }
   ],
   "source": [
    "print('Ranking final:')\n",
    "finalRank(ranks)"
   ]
  }
 ],
 "metadata": {
  "kernelspec": {
   "display_name": "Python 3",
   "language": "python",
   "name": "python3"
  },
  "language_info": {
   "codemirror_mode": {
    "name": "ipython",
    "version": 3
   },
   "file_extension": ".py",
   "mimetype": "text/x-python",
   "name": "python",
   "nbconvert_exporter": "python",
   "pygments_lexer": "ipython3",
   "version": "3.12.9"
  }
 },
 "nbformat": 4,
 "nbformat_minor": 2
}
