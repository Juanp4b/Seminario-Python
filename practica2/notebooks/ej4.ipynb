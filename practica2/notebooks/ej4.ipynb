{
 "cells": [
  {
   "cell_type": "code",
   "execution_count": 16,
   "metadata": {},
   "outputs": [],
   "source": [
    "import sys\n",
    "import os\n",
    "sys.path.append(os.path.abspath('../src'))"
   ]
  },
  {
   "cell_type": "code",
   "execution_count": 21,
   "metadata": {},
   "outputs": [
    {
     "name": "stdout",
     "output_type": "stream",
     "text": [
      "Criterios:\n",
      "Al menos 5 caracteres.\n",
      "Contiene al menos un número.\n",
      "Contiene al menos una letra mayúscula.\n",
      "Solo puede contener letras y números.\n",
      "\n"
     ]
    }
   ],
   "source": [
    "from ej4 import validar\n",
    "\n",
    "criterios = '''\n",
    "Al menos 5 caracteres.\n",
    "Contiene al menos un número.\n",
    "Contiene al menos una letra mayúscula.\n",
    "Solo puede contener letras y números.\n",
    "'''\n",
    "print(f'Criterios:{criterios}')\n",
    "user = input('Ingrese un nombre de usuario: ')"
   ]
  },
  {
   "cell_type": "code",
   "execution_count": 22,
   "metadata": {},
   "outputs": [
    {
     "name": "stdout",
     "output_type": "stream",
     "text": [
      "El nombre de usuario es válido.\n"
     ]
    }
   ],
   "source": [
    "state = 'El nombre de usuario es válido.' if validar(user) else 'El nombre de usuario no cumple con los requisitos.'\n",
    "print(state)"
   ]
  }
 ],
 "metadata": {
  "kernelspec": {
   "display_name": "Python 3",
   "language": "python",
   "name": "python3"
  },
  "language_info": {
   "codemirror_mode": {
    "name": "ipython",
    "version": 3
   },
   "file_extension": ".py",
   "mimetype": "text/x-python",
   "name": "python",
   "nbconvert_exporter": "python",
   "pygments_lexer": "ipython3",
   "version": "3.12.9"
  }
 },
 "nbformat": 4,
 "nbformat_minor": 2
}
