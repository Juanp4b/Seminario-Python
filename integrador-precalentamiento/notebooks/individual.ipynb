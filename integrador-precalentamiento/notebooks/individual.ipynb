{
 "cells": [
  {
   "cell_type": "code",
   "execution_count": 5,
   "id": "d0b2bf05",
   "metadata": {},
   "outputs": [],
   "source": [
    "import os,sys\n",
    "sys.path.append(os.path.abspath('../src'))"
   ]
  },
  {
   "cell_type": "markdown",
   "id": "30c9b8c8",
   "metadata": {},
   "source": [
    "# Analizar Individuos\n",
    "- Carguen el archivo perteneciente al tercer trimestre del 2024 e informe cuántos\n",
    "varones y mujeres representa el dataset.\n",
    "Ayuda: recuerden ponderar los datos. Columna de interés: CH04.\n",
    "- Informen cuántas personas mayores de edad han completado los estudios\n",
    "secundarios."
   ]
  },
  {
   "cell_type": "code",
   "execution_count": 6,
   "id": "550eca17",
   "metadata": {},
   "outputs": [],
   "source": [
    "from logic_individual import read_file,analyze\n",
    "from pathlib import Path\n",
    "\n",
    "path = Path('..') / 'files' / 'usu_individual_T324.txt'\n",
    "read_file(path)"
   ]
  },
  {
   "cell_type": "code",
   "execution_count": 7,
   "id": "7e5d036a",
   "metadata": {},
   "outputs": [
    {
     "name": "stdout",
     "output_type": "stream",
     "text": [
      "{'total': 29720145, 'sexo': {2: 15248344, 1: 14471801}, 'mayor_con_secundario': 14148491}\n"
     ]
    }
   ],
   "source": [
    "data = analyze()\n",
    "print(data)"
   ]
  },
  {
   "cell_type": "code",
   "execution_count": 8,
   "id": "ced9e996",
   "metadata": {},
   "outputs": [
    {
     "name": "stdout",
     "output_type": "stream",
     "text": [
      "Varones: 14.471.801\n",
      "Mujeres: 15.248.344\n",
      "Mayores de edad (>=18) que han completado Estudios Secundarios: 14.148.491\n"
     ]
    }
   ],
   "source": [
    "print(f'Varones: {data['sexo'][1]:,}'.replace(',','.'))\n",
    "print(f'Mujeres: {data['sexo'][2]:,}'.replace(',','.'))\n",
    "print(f'Mayores de edad (>=18) que han completado Estudios Secundarios: {data['mayor_con_secundario']:,}'.replace(',','.'))"
   ]
  }
 ],
 "metadata": {
  "kernelspec": {
   "display_name": "Python 3",
   "language": "python",
   "name": "python3"
  },
  "language_info": {
   "codemirror_mode": {
    "name": "ipython",
    "version": 3
   },
   "file_extension": ".py",
   "mimetype": "text/x-python",
   "name": "python",
   "nbconvert_exporter": "python",
   "pygments_lexer": "ipython3",
   "version": "3.12.9"
  }
 },
 "nbformat": 4,
 "nbformat_minor": 5
}
