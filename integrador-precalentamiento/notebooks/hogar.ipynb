{
 "cells": [
  {
   "cell_type": "code",
   "execution_count": 1,
   "id": "d0b2bf05",
   "metadata": {},
   "outputs": [],
   "source": [
    "import os,sys\n",
    "sys.path.append(os.path.abspath('../src'))"
   ]
  },
  {
   "cell_type": "markdown",
   "id": "93d89f64",
   "metadata": {},
   "source": [
    "# Analizar Hogares\n",
    "- Informen el porcentaje de viviendas que son ocupadas por el/la propietario/a de la vivienda y del terreno.\n",
    "- Informen el aglomerado con mayor y menor cantidad de viviendas con más de 2 ocupantes que no posean baño."
   ]
  },
  {
   "cell_type": "code",
   "execution_count": 2,
   "id": "a43b6c01",
   "metadata": {},
   "outputs": [],
   "source": [
    "from logic_hogar import read_file,analyze\n",
    "from pathlib import Path\n",
    "\n",
    "path = Path('..') / 'files' / 'usu_hogar_T324.txt'\n",
    "read_file(path)"
   ]
  },
  {
   "cell_type": "code",
   "execution_count": 3,
   "id": "c47224c5",
   "metadata": {},
   "outputs": [
    {
     "name": "stdout",
     "output_type": "stream",
     "text": [
      "{'total': 10189677, 'propietario': 6113956, '2_con_baño': {'33': 8469, '12': 1068, '38': 322, '36': 311, '13': 1322, '23': 282, '5': 468, '27': 350, '6': 198, '10': 263}}\n"
     ]
    }
   ],
   "source": [
    "data = analyze()\n",
    "print(data)"
   ]
  },
  {
   "cell_type": "code",
   "execution_count": 4,
   "id": "bb71d4e5",
   "metadata": {},
   "outputs": [
    {
     "name": "stdout",
     "output_type": "stream",
     "text": [
      "Viviendas ocupadas por el/la propietario/a de la vivienda y el terreno: 60.0%\n"
     ]
    }
   ],
   "source": [
    "porcentaje = (data['propietario'] / data['total']) * 100\n",
    "porcentaje = round(porcentaje,2)\n",
    "\n",
    "print(f'Viviendas ocupadas por el/la propietario/a de la vivienda y el terreno: {porcentaje}%')"
   ]
  },
  {
   "cell_type": "code",
   "execution_count": 5,
   "id": "a4f8295b",
   "metadata": {},
   "outputs": [
    {
     "name": "stdout",
     "output_type": "stream",
     "text": [
      "Aglomerado con Mayor cantidad de viviendas con más de 2 ocupantes que no posean baño: 33 con 8.469\n",
      "Aglomerado con Menor cantidad de viviendas con más de 2 ocupantes que no posean baño: 6 con 198\n"
     ]
    }
   ],
   "source": [
    "mayor = max(data['2_con_baño'], key=lambda x: data['2_con_baño'][x])\n",
    "menor = min(data['2_con_baño'], key=lambda x: data['2_con_baño'][x])\n",
    "\n",
    "print(f'Aglomerado con Mayor cantidad de viviendas con más de 2 ocupantes que no posean baño: {mayor} con {data['2_con_baño'][mayor]:,}'.replace(',','.'))\n",
    "print(f'Aglomerado con Menor cantidad de viviendas con más de 2 ocupantes que no posean baño: {menor} con {data['2_con_baño'][menor]:,}'.replace(',','.'))"
   ]
  }
 ],
 "metadata": {
  "kernelspec": {
   "display_name": "Python 3",
   "language": "python",
   "name": "python3"
  },
  "language_info": {
   "codemirror_mode": {
    "name": "ipython",
    "version": 3
   },
   "file_extension": ".py",
   "mimetype": "text/x-python",
   "name": "python",
   "nbconvert_exporter": "python",
   "pygments_lexer": "ipython3",
   "version": "3.12.9"
  }
 },
 "nbformat": 4,
 "nbformat_minor": 5
}
